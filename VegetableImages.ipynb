{
  "cells": [
    {
      "cell_type": "markdown",
      "metadata": {
        "id": "view-in-github",
        "colab_type": "text"
      },
      "source": [
        "<a href=\"https://colab.research.google.com/github/ahsanansari7/class_assessment/blob/main/VegetableImages.ipynb\" target=\"_parent\"><img src=\"https://colab.research.google.com/assets/colab-badge.svg\" alt=\"Open In Colab\"/></a>"
      ]
    },
    {
      "cell_type": "code",
      "execution_count": 13,
      "metadata": {
        "id": "AjueYiaaE5Fo"
      },
      "outputs": [],
      "source": [
        "import os\n",
        "os.environ['KAGGLE_CONFIG_DIR'] = \"/content/drive/MyDrive/Kaggle\""
      ]
    },
    {
      "cell_type": "code",
      "execution_count": 14,
      "metadata": {
        "colab": {
          "base_uri": "https://localhost:8080/"
        },
        "id": "4pc81aEoFWpH",
        "outputId": "de383b52-e9b8-48b4-9b2c-2dde8e72748c"
      },
      "outputs": [
        {
          "output_type": "stream",
          "name": "stdout",
          "text": [
            "/content/drive/MyDrive/Kaggle\n"
          ]
        }
      ],
      "source": [
        "%cd /content/drive/MyDrive/Kaggle"
      ]
    },
    {
      "cell_type": "code",
      "execution_count": null,
      "metadata": {
        "colab": {
          "base_uri": "https://localhost:8080/"
        },
        "id": "F7ASG2u6FfgO",
        "outputId": "0ad92e76-1ffe-44cf-f931-375b3890ac92"
      },
      "outputs": [
        {
          "name": "stdout",
          "output_type": "stream",
          "text": [
            "Downloading vegetable-image-dataset.zip to /content/drive/MyDrive/Kaggle\n",
            "100% 532M/534M [00:21<00:00, 25.2MB/s]\n",
            "100% 534M/534M [00:21<00:00, 26.1MB/s]\n"
          ]
        }
      ],
      "source": [
        "# downloading dataset\n",
        "!kaggle datasets download -d misrakahmed/vegetable-image-dataset"
      ]
    },
    {
      "cell_type": "code",
      "execution_count": 15,
      "metadata": {
        "colab": {
          "base_uri": "https://localhost:8080/"
        },
        "id": "tCsMD2nQFp4e",
        "outputId": "adce938d-9f6a-489f-b547-41fa35dfc722"
      },
      "outputs": [
        {
          "output_type": "stream",
          "name": "stdout",
          "text": [
            " \u001b[0m\u001b[01;34mGrapevine_Leaves_Image_Dataset\u001b[0m/   kaggle.json  \u001b[01;34m'Vegetable Images'\u001b[0m/\n"
          ]
        }
      ],
      "source": [
        "%ls"
      ]
    },
    {
      "cell_type": "code",
      "execution_count": null,
      "metadata": {
        "colab": {
          "base_uri": "https://localhost:8080/"
        },
        "id": "XqMtFGYoFw4W",
        "outputId": "f97c1942-21d7-4e1e-af50-ab2bdfdd068c"
      },
      "outputs": [
        {
          "name": "stdout",
          "output_type": "stream",
          "text": [
            "Downloading vegetable-image-dataset.zip to /content/drive/MyDrive/Kaggle\n",
            "100% 532M/534M [00:17<00:00, 32.5MB/s]\n",
            "100% 534M/534M [00:17<00:00, 31.3MB/s]\n"
          ]
        }
      ],
      "source": [
        "# unzip the folder vegetable-image-dataset\n",
        "!kaggle datasets download -d misrakahmed/vegetable-image-dataset --unzip --force"
      ]
    },
    {
      "cell_type": "code",
      "execution_count": 16,
      "metadata": {
        "id": "m7fCdWm9LmMe"
      },
      "outputs": [],
      "source": [
        "import numpy as np\n",
        "import pandas as pd\n",
        "import matplotlib.pyplot as plt\n",
        "import tensorflow as tf\n",
        "from tensorflow import keras\n",
        "from tensorflow.keras import layers, models\n",
        "from tensorflow.keras.models import Sequential\n",
        "from tensorflow.keras.layers import Dense, Flatten\n",
        "from keras.preprocessing.image import ImageDataGenerator\n"
      ]
    },
    {
      "cell_type": "code",
      "execution_count": 17,
      "metadata": {
        "id": "eMfd-QGnOAyl"
      },
      "outputs": [],
      "source": [
        "base_dir = \"/content/drive/MyDrive/Kaggle/Vegetable Images\"\n",
        "testing_dir = \"/content/drive/MyDrive/Kaggle/Vegetable Images/test\"\n",
        "training_dir = \"/content/drive/MyDrive/Kaggle/Vegetable Images/train\"\n",
        "validation_dir = \"/content/drive/MyDrive/Kaggle/Vegetable Images/validation\""
      ]
    },
    {
      "cell_type": "code",
      "execution_count": 19,
      "metadata": {
        "colab": {
          "base_uri": "https://localhost:8080/"
        },
        "id": "eQB3w4vtOkSO",
        "outputId": "997d2192-d27b-4216-a0f4-fc5204284e24"
      },
      "outputs": [
        {
          "output_type": "stream",
          "name": "stdout",
          "text": [
            "Found 15000 images belonging to 15 classes.\n",
            "Found 3000 images belonging to 15 classes.\n"
          ]
        }
      ],
      "source": [
        "training_datagen = ImageDataGenerator(\n",
        "        rescale = 1./255,\n",
        "        rotation_range=40,\n",
        "        width_shift_range=0.2,\n",
        "        height_shift_range=0.2,\n",
        "        shear_range=0.2,\n",
        "        zoom_range=0.2,\n",
        "        horizontal_flip=True,\n",
        "        fill_mode='nearest')\n",
        "\n",
        "\n",
        "validation_datagen = ImageDataGenerator(rescale = 1./255)\n",
        "\n",
        "train_generator = training_datagen.flow_from_directory(\n",
        "                    training_dir,\n",
        "                    target_size=(150,150),\n",
        "                    class_mode='categorical',\n",
        "                    batch_size=126\n",
        ")\n",
        "\n",
        "validation_generator = validation_datagen.flow_from_directory(\n",
        "                            validation_dir,\n",
        "                            target_size=(150,150),\n",
        "                            class_mode='categorical',\n",
        "                            batch_size=126\n",
        ")\n"
      ]
    },
    {
      "cell_type": "code",
      "execution_count": 20,
      "metadata": {
        "id": "OFcO2PbCR4Cd"
      },
      "outputs": [],
      "source": [
        "model = tf.keras.models.Sequential([\n",
        "    # Note the input shape is the desired size of the image 150x150 with 3 bytes color\n",
        "    # This is the first convolution\n",
        "    tf.keras.layers.Conv2D(64, (3,3), activation='relu', input_shape=(150, 150, 3)),\n",
        "    tf.keras.layers.MaxPooling2D(2, 2),\n",
        "    # The second convolution\n",
        "    tf.keras.layers.Conv2D(64, (3,3), activation='relu'),\n",
        "    tf.keras.layers.MaxPooling2D(2,2),\n",
        "    # The third convolution\n",
        "    tf.keras.layers.Conv2D(128, (3,3), activation='relu'),\n",
        "    tf.keras.layers.MaxPooling2D(2,2),\n",
        "    # The fourth convolution\n",
        "    tf.keras.layers.Conv2D(128, (3,3), activation='relu'),\n",
        "    tf.keras.layers.MaxPooling2D(2,2),\n",
        "    # Flatten the results to feed into a DNN\n",
        "    tf.keras.layers.Flatten(),\n",
        "    tf.keras.layers.Dropout(0.5),\n",
        "    # 512 neuron hidden layer\n",
        "    tf.keras.layers.Dense(512, activation='relu'),\n",
        "    tf.keras.layers.Dense(15, activation='softmax')\n",
        "])"
      ]
    },
    {
      "cell_type": "code",
      "execution_count": 21,
      "metadata": {
        "colab": {
          "base_uri": "https://localhost:8080/"
        },
        "id": "fYE2JRfXTqS0",
        "outputId": "537b7484-e336-478f-c0d5-42c55fafa93d"
      },
      "outputs": [
        {
          "output_type": "stream",
          "name": "stdout",
          "text": [
            "Model: \"sequential_1\"\n",
            "_________________________________________________________________\n",
            " Layer (type)                Output Shape              Param #   \n",
            "=================================================================\n",
            " conv2d_4 (Conv2D)           (None, 148, 148, 64)      1792      \n",
            "                                                                 \n",
            " max_pooling2d_4 (MaxPoolin  (None, 74, 74, 64)        0         \n",
            " g2D)                                                            \n",
            "                                                                 \n",
            " conv2d_5 (Conv2D)           (None, 72, 72, 64)        36928     \n",
            "                                                                 \n",
            " max_pooling2d_5 (MaxPoolin  (None, 36, 36, 64)        0         \n",
            " g2D)                                                            \n",
            "                                                                 \n",
            " conv2d_6 (Conv2D)           (None, 34, 34, 128)       73856     \n",
            "                                                                 \n",
            " max_pooling2d_6 (MaxPoolin  (None, 17, 17, 128)       0         \n",
            " g2D)                                                            \n",
            "                                                                 \n",
            " conv2d_7 (Conv2D)           (None, 15, 15, 128)       147584    \n",
            "                                                                 \n",
            " max_pooling2d_7 (MaxPoolin  (None, 7, 7, 128)         0         \n",
            " g2D)                                                            \n",
            "                                                                 \n",
            " flatten_1 (Flatten)         (None, 6272)              0         \n",
            "                                                                 \n",
            " dropout_1 (Dropout)         (None, 6272)              0         \n",
            "                                                                 \n",
            " dense_2 (Dense)             (None, 512)               3211776   \n",
            "                                                                 \n",
            " dense_3 (Dense)             (None, 15)                7695      \n",
            "                                                                 \n",
            "=================================================================\n",
            "Total params: 3479631 (13.27 MB)\n",
            "Trainable params: 3479631 (13.27 MB)\n",
            "Non-trainable params: 0 (0.00 Byte)\n",
            "_________________________________________________________________\n"
          ]
        }
      ],
      "source": [
        "model.summary()"
      ]
    },
    {
      "cell_type": "code",
      "execution_count": 22,
      "metadata": {
        "id": "KddTqJ6dTu60"
      },
      "outputs": [],
      "source": [
        "model.compile(loss = 'categorical_crossentropy',\n",
        "              optimizer='rmsprop',\n",
        "              metrics=['accuracy'])"
      ]
    },
    {
      "cell_type": "code",
      "execution_count": 23,
      "metadata": {
        "colab": {
          "base_uri": "https://localhost:8080/"
        },
        "id": "dSdfKD3JT207",
        "outputId": "0df904da-fc82-4029-c927-d34136ed6635"
      },
      "outputs": [
        {
          "output_type": "stream",
          "name": "stdout",
          "text": [
            "Epoch 1/25\n",
            "120/120 [==============================] - 1047s 9s/step - loss: 2.2560 - accuracy: 0.2331 - val_loss: 1.6369 - val_accuracy: 0.4206\n",
            "Epoch 2/25\n",
            "120/120 [==============================] - 228s 2s/step - loss: 1.7239 - accuracy: 0.4053 - val_loss: 1.7398 - val_accuracy: 0.4339\n",
            "Epoch 3/25\n",
            "120/120 [==============================] - 213s 2s/step - loss: 1.3571 - accuracy: 0.5358 - val_loss: 1.3248 - val_accuracy: 0.5397\n",
            "Epoch 4/25\n",
            "120/120 [==============================] - 205s 2s/step - loss: 1.0820 - accuracy: 0.6351 - val_loss: 1.7517 - val_accuracy: 0.4762\n",
            "Epoch 5/25\n",
            "120/120 [==============================] - 185s 2s/step - loss: 0.8664 - accuracy: 0.7135 - val_loss: 0.9576 - val_accuracy: 0.6852\n",
            "Epoch 6/25\n",
            "120/120 [==============================] - 174s 1s/step - loss: 0.7168 - accuracy: 0.7633 - val_loss: 0.5150 - val_accuracy: 0.7910\n",
            "Epoch 7/25\n",
            "120/120 [==============================] - 166s 1s/step - loss: 0.5852 - accuracy: 0.8100 - val_loss: 0.7532 - val_accuracy: 0.7302\n",
            "Epoch 8/25\n",
            "120/120 [==============================] - 165s 1s/step - loss: 0.5046 - accuracy: 0.8341 - val_loss: 0.2773 - val_accuracy: 0.9206\n",
            "Epoch 9/25\n",
            "120/120 [==============================] - 165s 1s/step - loss: 0.4507 - accuracy: 0.8627 - val_loss: 0.2511 - val_accuracy: 0.9206\n",
            "Epoch 10/25\n",
            "120/120 [==============================] - 147s 1s/step - loss: 0.3900 - accuracy: 0.8760 - val_loss: 0.1596 - val_accuracy: 0.9550\n",
            "Epoch 11/25\n",
            "120/120 [==============================] - 141s 1s/step - loss: 0.3378 - accuracy: 0.8951 - val_loss: 0.0680 - val_accuracy: 0.9788\n",
            "Epoch 12/25\n",
            "120/120 [==============================] - 143s 1s/step - loss: 0.3045 - accuracy: 0.9025 - val_loss: 0.3108 - val_accuracy: 0.8915\n",
            "Epoch 13/25\n",
            "120/120 [==============================] - 142s 1s/step - loss: 0.2969 - accuracy: 0.9079 - val_loss: 0.3079 - val_accuracy: 0.9206\n",
            "Epoch 14/25\n",
            "120/120 [==============================] - 136s 1s/step - loss: 0.2801 - accuracy: 0.9169 - val_loss: 0.1414 - val_accuracy: 0.9709\n",
            "Epoch 15/25\n",
            "120/120 [==============================] - 129s 1s/step - loss: 0.2172 - accuracy: 0.9334 - val_loss: 0.1145 - val_accuracy: 0.9735\n",
            "Epoch 16/25\n",
            "120/120 [==============================] - 132s 1s/step - loss: 0.3010 - accuracy: 0.9216 - val_loss: 0.0833 - val_accuracy: 0.9815\n",
            "Epoch 17/25\n",
            "120/120 [==============================] - 127s 1s/step - loss: 0.1860 - accuracy: 0.9415 - val_loss: 0.1634 - val_accuracy: 0.9471\n",
            "Epoch 18/25\n",
            "120/120 [==============================] - 127s 1s/step - loss: 0.1912 - accuracy: 0.9396 - val_loss: 0.1317 - val_accuracy: 0.9524\n",
            "Epoch 19/25\n",
            "120/120 [==============================] - 131s 1s/step - loss: 0.1744 - accuracy: 0.9457 - val_loss: 0.0321 - val_accuracy: 0.9921\n",
            "Epoch 20/25\n",
            "120/120 [==============================] - 127s 1s/step - loss: 0.1830 - accuracy: 0.9461 - val_loss: 0.0596 - val_accuracy: 0.9815\n",
            "Epoch 21/25\n",
            "120/120 [==============================] - 128s 1s/step - loss: 0.1678 - accuracy: 0.9507 - val_loss: 0.0528 - val_accuracy: 0.9868\n",
            "Epoch 22/25\n",
            "120/120 [==============================] - 129s 1s/step - loss: 0.1639 - accuracy: 0.9505 - val_loss: 0.0552 - val_accuracy: 0.9815\n",
            "Epoch 23/25\n",
            "120/120 [==============================] - 125s 1s/step - loss: 0.1548 - accuracy: 0.9557 - val_loss: 0.1195 - val_accuracy: 0.9656\n",
            "Epoch 24/25\n",
            "120/120 [==============================] - 125s 1s/step - loss: 0.1277 - accuracy: 0.9601 - val_loss: 0.1253 - val_accuracy: 0.9497\n",
            "Epoch 25/25\n",
            "120/120 [==============================] - 126s 1s/step - loss: 0.1460 - accuracy: 0.9549 - val_loss: 0.0502 - val_accuracy: 0.9894\n"
          ]
        }
      ],
      "source": [
        "history = model.fit(train_generator, epochs=25,\n",
        "                    validation_data = validation_generator,\n",
        "                    verbose = 1, validation_steps=3)"
      ]
    },
    {
      "cell_type": "code",
      "source": [
        "test_loss, test_acc = model.evaluate(validation_generator)\n",
        "print(f\"Test accuracy: {test_acc:.3f}\")"
      ],
      "metadata": {
        "colab": {
          "base_uri": "https://localhost:8080/"
        },
        "id": "KOaFOTl3_bTr",
        "outputId": "7fed8d3d-42b9-4ee1-e68c-24a38af02a2d"
      },
      "execution_count": 26,
      "outputs": [
        {
          "output_type": "stream",
          "name": "stdout",
          "text": [
            "24/24 [==============================] - 16s 668ms/step - loss: 0.0583 - accuracy: 0.9863\n",
            "Test accuracy: 0.986\n"
          ]
        }
      ]
    },
    {
      "cell_type": "code",
      "source": [
        "# Plot the results\n",
        "acc = history.history['accuracy']\n",
        "val_acc = history.history['val_accuracy']\n",
        "loss = history.history['loss']\n",
        "val_loss = history.history['val_loss']\n",
        "\n",
        "epochs = range(len(acc))\n",
        "\n",
        "plt.plot(epochs, acc, 'r', label='Training accuracy')\n",
        "plt.plot(epochs, val_acc, 'b', label='Validation accuracy')\n",
        "plt.title('Training and validation accuracy')\n",
        "plt.legend(loc=0)\n",
        "plt.figure()\n",
        "\n",
        "plt.show()\n",
        "\n",
        "plt.plot(epochs, loss, 'r', label='Training Loss')\n",
        "plt.plot(epochs, val_loss, 'b', label='Validation Loss')\n",
        "plt.title('Training and validation Loss')\n",
        "plt.legend(loc=0)\n",
        "plt.figure()\n",
        "\n",
        "plt.show()"
      ],
      "metadata": {
        "colab": {
          "base_uri": "https://localhost:8080/",
          "height": 924
        },
        "id": "cZuXckWNkxcp",
        "outputId": "db6937ad-1465-4a2d-a515-377b2a295c29"
      },
      "execution_count": 24,
      "outputs": [
        {
          "output_type": "display_data",
          "data": {
            "text/plain": [
              "<Figure size 640x480 with 1 Axes>"
            ],
            "image/png": "[encoded data removed]"
          },
          "metadata": {}
        },
        {
          "output_type": "display_data",
          "data": {
            "text/plain": [
              "<Figure size 640x480 with 0 Axes>"
            ]
          },
          "metadata": {}
        },
        {
          "output_type": "display_data",
          "data": {
            "text/plain": [
              "<Figure size 640x480 with 1 Axes>"
            ],
            "image/png": "[encoded data removed]"
          },
          "metadata": {}
        },
        {
          "output_type": "display_data",
          "data": {
            "text/plain": [
              "<Figure size 640x480 with 0 Axes>"
            ]
          },
          "metadata": {}
        }
      ]
    }
  ],
  "metadata": {
    "colab": {
      "provenance": [],
      "gpuType": "T4",
      "mount_file_id": "13Ho7gSyuGpZ1AKKqMAYA3c44nmhRgAX5",
      "authorship_tag": "ABX9TyPFi4zyFxEzTNlsHQfH+bOf",
      "include_colab_link": true
    },
    "kernelspec": {
      "display_name": "Python 3",
      "name": "python3"
    },
    "language_info": {
      "name": "python"
    },
    "accelerator": "GPU"
  },
  "nbformat": 4,
  "nbformat_minor": 0
}